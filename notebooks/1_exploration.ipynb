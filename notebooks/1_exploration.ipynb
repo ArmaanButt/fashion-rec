{
 "cells": [
  {
   "cell_type": "code",
   "execution_count": 1,
   "metadata": {},
   "outputs": [],
   "source": [
    "import pandas as pd"
   ]
  },
  {
   "cell_type": "code",
   "execution_count": 2,
   "metadata": {},
   "outputs": [],
   "source": [
    "df = pd.read_json('../data/meta_Amazon_Fashion.jsonl', lines=True)"
   ]
  },
  {
   "cell_type": "code",
   "execution_count": 3,
   "metadata": {},
   "outputs": [
    {
     "data": {
      "text/plain": [
       "826108"
      ]
     },
     "execution_count": 3,
     "metadata": {},
     "output_type": "execute_result"
    }
   ],
   "source": [
    "# Number of rows\n",
    "len(df)"
   ]
  },
  {
   "cell_type": "code",
   "execution_count": 4,
   "metadata": {},
   "outputs": [
    {
     "data": {
      "text/html": [
       "<div>\n",
       "<style scoped>\n",
       "    .dataframe tbody tr th:only-of-type {\n",
       "        vertical-align: middle;\n",
       "    }\n",
       "\n",
       "    .dataframe tbody tr th {\n",
       "        vertical-align: top;\n",
       "    }\n",
       "\n",
       "    .dataframe thead th {\n",
       "        text-align: right;\n",
       "    }\n",
       "</style>\n",
       "<table border=\"1\" class=\"dataframe\">\n",
       "  <thead>\n",
       "    <tr style=\"text-align: right;\">\n",
       "      <th></th>\n",
       "      <th>main_category</th>\n",
       "      <th>title</th>\n",
       "      <th>average_rating</th>\n",
       "      <th>rating_number</th>\n",
       "      <th>features</th>\n",
       "      <th>description</th>\n",
       "      <th>price</th>\n",
       "      <th>images</th>\n",
       "      <th>videos</th>\n",
       "      <th>store</th>\n",
       "      <th>categories</th>\n",
       "      <th>details</th>\n",
       "      <th>parent_asin</th>\n",
       "      <th>bought_together</th>\n",
       "    </tr>\n",
       "  </thead>\n",
       "  <tbody>\n",
       "    <tr>\n",
       "      <th>0</th>\n",
       "      <td>AMAZON FASHION</td>\n",
       "      <td>YUEDGE 5 Pairs Men's Moisture Control Cushione...</td>\n",
       "      <td>4.6</td>\n",
       "      <td>16</td>\n",
       "      <td>[]</td>\n",
       "      <td>[]</td>\n",
       "      <td>NaN</td>\n",
       "      <td>[{'thumb': 'https://m.media-amazon.com/images/...</td>\n",
       "      <td>[]</td>\n",
       "      <td>GiveGift</td>\n",
       "      <td>[]</td>\n",
       "      <td>{'Package Dimensions': '10.31 x 8.5 x 1.73 inc...</td>\n",
       "      <td>B08BHN9PK5</td>\n",
       "      <td>NaN</td>\n",
       "    </tr>\n",
       "    <tr>\n",
       "      <th>1</th>\n",
       "      <td>AMAZON FASHION</td>\n",
       "      <td>DouBCQ Women's Palazzo Lounge Wide Leg Casual ...</td>\n",
       "      <td>4.1</td>\n",
       "      <td>7</td>\n",
       "      <td>[Drawstring closure, Machine Wash]</td>\n",
       "      <td>[]</td>\n",
       "      <td>NaN</td>\n",
       "      <td>[{'thumb': 'https://m.media-amazon.com/images/...</td>\n",
       "      <td>[]</td>\n",
       "      <td>DouBCQ</td>\n",
       "      <td>[]</td>\n",
       "      <td>{'Package Dimensions': '15 x 10.2 x 0.4 inches...</td>\n",
       "      <td>B08R39MRDW</td>\n",
       "      <td>NaN</td>\n",
       "    </tr>\n",
       "    <tr>\n",
       "      <th>2</th>\n",
       "      <td>AMAZON FASHION</td>\n",
       "      <td>Pastel by Vivienne Honey Vanilla Girls' Trapez...</td>\n",
       "      <td>4.3</td>\n",
       "      <td>11</td>\n",
       "      <td>[Zipper closure, Hand Wash Only]</td>\n",
       "      <td>[]</td>\n",
       "      <td>NaN</td>\n",
       "      <td>[{'thumb': 'https://m.media-amazon.com/images/...</td>\n",
       "      <td>[]</td>\n",
       "      <td>Pastel by Vivienne</td>\n",
       "      <td>[]</td>\n",
       "      <td>{'Is Discontinued By Manufacturer': 'No', 'Pac...</td>\n",
       "      <td>B077KJHCJ4</td>\n",
       "      <td>NaN</td>\n",
       "    </tr>\n",
       "    <tr>\n",
       "      <th>3</th>\n",
       "      <td>AMAZON FASHION</td>\n",
       "      <td>Mento Streamtail</td>\n",
       "      <td>2.0</td>\n",
       "      <td>1</td>\n",
       "      <td>[Thermoplastic Rubber sole, High Density Premi...</td>\n",
       "      <td>[Slip on the Women's Mento and you're ready to...</td>\n",
       "      <td>29.81</td>\n",
       "      <td>[{'thumb': 'https://m.media-amazon.com/images/...</td>\n",
       "      <td>[]</td>\n",
       "      <td>Guy Harvey</td>\n",
       "      <td>[]</td>\n",
       "      <td>{'Package Dimensions': '11.22 x 4.72 x 4.33 in...</td>\n",
       "      <td>B0811M2JG9</td>\n",
       "      <td>NaN</td>\n",
       "    </tr>\n",
       "    <tr>\n",
       "      <th>4</th>\n",
       "      <td>AMAZON FASHION</td>\n",
       "      <td>RONNOX Women's 3-Pairs Bright Colored Calf Com...</td>\n",
       "      <td>4.3</td>\n",
       "      <td>3032</td>\n",
       "      <td>[Pull On closure, Size Guide: \"S\" fits calf 10...</td>\n",
       "      <td>[Ronnox Calf Sleeves - Allowing Your Body to P...</td>\n",
       "      <td>17.99</td>\n",
       "      <td>[{'thumb': 'https://m.media-amazon.com/images/...</td>\n",
       "      <td>[{'title': 'HONEST Review: RONNOX Women's 3-Pa...</td>\n",
       "      <td>RONNOX</td>\n",
       "      <td>[]</td>\n",
       "      <td>{'Is Discontinued By Manufacturer': 'No', 'Pac...</td>\n",
       "      <td>B07SB2892S</td>\n",
       "      <td>NaN</td>\n",
       "    </tr>\n",
       "  </tbody>\n",
       "</table>\n",
       "</div>"
      ],
      "text/plain": [
       "    main_category                                              title  \\\n",
       "0  AMAZON FASHION  YUEDGE 5 Pairs Men's Moisture Control Cushione...   \n",
       "1  AMAZON FASHION  DouBCQ Women's Palazzo Lounge Wide Leg Casual ...   \n",
       "2  AMAZON FASHION  Pastel by Vivienne Honey Vanilla Girls' Trapez...   \n",
       "3  AMAZON FASHION                                   Mento Streamtail   \n",
       "4  AMAZON FASHION  RONNOX Women's 3-Pairs Bright Colored Calf Com...   \n",
       "\n",
       "   average_rating  rating_number  \\\n",
       "0             4.6             16   \n",
       "1             4.1              7   \n",
       "2             4.3             11   \n",
       "3             2.0              1   \n",
       "4             4.3           3032   \n",
       "\n",
       "                                            features  \\\n",
       "0                                                 []   \n",
       "1                 [Drawstring closure, Machine Wash]   \n",
       "2                   [Zipper closure, Hand Wash Only]   \n",
       "3  [Thermoplastic Rubber sole, High Density Premi...   \n",
       "4  [Pull On closure, Size Guide: \"S\" fits calf 10...   \n",
       "\n",
       "                                         description  price  \\\n",
       "0                                                 []    NaN   \n",
       "1                                                 []    NaN   \n",
       "2                                                 []    NaN   \n",
       "3  [Slip on the Women's Mento and you're ready to...  29.81   \n",
       "4  [Ronnox Calf Sleeves - Allowing Your Body to P...  17.99   \n",
       "\n",
       "                                              images  \\\n",
       "0  [{'thumb': 'https://m.media-amazon.com/images/...   \n",
       "1  [{'thumb': 'https://m.media-amazon.com/images/...   \n",
       "2  [{'thumb': 'https://m.media-amazon.com/images/...   \n",
       "3  [{'thumb': 'https://m.media-amazon.com/images/...   \n",
       "4  [{'thumb': 'https://m.media-amazon.com/images/...   \n",
       "\n",
       "                                              videos               store  \\\n",
       "0                                                 []            GiveGift   \n",
       "1                                                 []              DouBCQ   \n",
       "2                                                 []  Pastel by Vivienne   \n",
       "3                                                 []          Guy Harvey   \n",
       "4  [{'title': 'HONEST Review: RONNOX Women's 3-Pa...              RONNOX   \n",
       "\n",
       "  categories                                            details parent_asin  \\\n",
       "0         []  {'Package Dimensions': '10.31 x 8.5 x 1.73 inc...  B08BHN9PK5   \n",
       "1         []  {'Package Dimensions': '15 x 10.2 x 0.4 inches...  B08R39MRDW   \n",
       "2         []  {'Is Discontinued By Manufacturer': 'No', 'Pac...  B077KJHCJ4   \n",
       "3         []  {'Package Dimensions': '11.22 x 4.72 x 4.33 in...  B0811M2JG9   \n",
       "4         []  {'Is Discontinued By Manufacturer': 'No', 'Pac...  B07SB2892S   \n",
       "\n",
       "   bought_together  \n",
       "0              NaN  \n",
       "1              NaN  \n",
       "2              NaN  \n",
       "3              NaN  \n",
       "4              NaN  "
      ]
     },
     "execution_count": 4,
     "metadata": {},
     "output_type": "execute_result"
    }
   ],
   "source": [
    "df.head()"
   ]
  },
  {
   "cell_type": "markdown",
   "metadata": {},
   "source": [
    "Trying to understand the data. I want to reduce the dataset as much as possible an focus on high value data."
   ]
  },
  {
   "cell_type": "code",
   "execution_count": 5,
   "metadata": {},
   "outputs": [
    {
     "data": {
      "text/plain": [
       "Index(['main_category', 'title', 'average_rating', 'rating_number', 'features',\n",
       "       'description', 'price', 'images', 'videos', 'store', 'categories',\n",
       "       'details', 'parent_asin'],\n",
       "      dtype='object')"
      ]
     },
     "execution_count": 5,
     "metadata": {},
     "output_type": "execute_result"
    }
   ],
   "source": [
    "# Drop columns that are entirely empty\n",
    "df = df.dropna(axis=1, how='all')\n",
    "df.columns"
   ]
  },
  {
   "cell_type": "code",
   "execution_count": 6,
   "metadata": {},
   "outputs": [
    {
     "name": "stdout",
     "output_type": "stream",
     "text": [
      "Unique main categories:\n",
      "['AMAZON FASHION']\n"
     ]
    }
   ],
   "source": [
    "# Get unique values for key columns\n",
    "print(\"Unique main categories:\")\n",
    "print(df['main_category'].unique())\n"
   ]
  },
  {
   "cell_type": "code",
   "execution_count": 7,
   "metadata": {},
   "outputs": [
    {
     "name": "stdout",
     "output_type": "stream",
     "text": [
      "Number of rows with non-empty categories: 0\n"
     ]
    }
   ],
   "source": [
    "# Check for non-empty category lists\n",
    "print(\"Number of rows with non-empty categories:\", \n",
    "      len(df[df['categories'].apply(lambda x: len(x) > 0)]))\n",
    "\n"
   ]
  },
  {
   "cell_type": "code",
   "execution_count": 8,
   "metadata": {},
   "outputs": [
    {
     "name": "stdout",
     "output_type": "stream",
     "text": [
      "\n",
      "Parent ASIN counts (descending):\n",
      "parent_asin\n",
      "B08BHN9PK5    1\n",
      "B00TT1OOB2    1\n",
      "B08JTB3V2P    1\n",
      "B01HI6GS2M    1\n",
      "B01IU8B5Y8    1\n",
      "             ..\n",
      "B07HR134XV    1\n",
      "B0823QNLLC    1\n",
      "B07DSC93F8    1\n",
      "B0176WL1FC    1\n",
      "B0895H6NWS    1\n",
      "Name: count, Length: 826108, dtype: int64\n"
     ]
    }
   ],
   "source": [
    "# Group by parent_asin and count occurrences, sort in descending order\n",
    "parent_asin_counts = df['parent_asin'].value_counts()\n",
    "print(\"\\nParent ASIN counts (descending):\")\n",
    "print(parent_asin_counts)\n"
   ]
  },
  {
   "cell_type": "code",
   "execution_count": 9,
   "metadata": {},
   "outputs": [
    {
     "data": {
      "text/plain": [
       "Index(['title', 'average_rating', 'rating_number', 'features', 'description',\n",
       "       'price', 'images', 'store', 'details'],\n",
       "      dtype='object')"
      ]
     },
     "execution_count": 9,
     "metadata": {},
     "output_type": "execute_result"
    }
   ],
   "source": [
    "# Drop specified columns\n",
    "df = df.drop(['main_category', 'videos', 'categories', 'parent_asin'], axis=1)\n",
    "df.columns"
   ]
  },
  {
   "cell_type": "code",
   "execution_count": 10,
   "metadata": {},
   "outputs": [
    {
     "name": "stdout",
     "output_type": "stream",
     "text": [
      "{'', 'Top Style', 'Base Material', 'Item Dimensions LxWxH', 'Pile Height', 'Color Code', 'Surface Recommendation nail', 'Ruling Type', 'Total Diamond Weight', 'Wheel Size', 'Minimum Weight Recommendation', 'Movement Detection Technology', 'Surface Recommendation Nail', 'Package Weight', 'Item model number', 'Shape', 'Case Material', 'Lens Material', 'Frame Material Metal', 'Shaft Height', 'Filter Class', 'Eye Relief', 'Night vision', 'OEM Part Number', 'Plant or Animal Product Type', 'Fabric Type', 'Brake Width', 'Point Type', 'Blade Length', 'Insole Type', 'Material other', 'Thickness', 'Seat Height', 'Thread Type', 'Watch Movement', 'National Stock Number', 'Occasion Travel', 'Year', 'Cable Feature', 'Date First Available', 'Included Components', 'Item Volume', 'Material Acrylic', 'Puzzle type', 'Minimum Age Recomendation', 'Are Batteries Included', 'Screen Size', 'Locking', 'Drain Type', 'Bike Type', 'Capacity 11 Fluid Ounces', 'Liquid Contents Description', 'Suggested Users', 'Wireless network technology', 'Number of Blades', 'Battery Description', 'Units', 'Shelf Type Hanging Shelf', 'Connector Type', 'Coverage', 'Hardware Interface', 'Item Display Dimensions', 'Skill Level', 'Incontinence Protector Type', 'Usage', 'Material Silicone', 'Max Printspeed Monochrome', 'Primary Stone Gem Type', 'Design', 'Reusability', 'Back Material Type', 'Country/Region Of Origin', 'Mounting Type Insert Mount', 'Metal Stamp', 'Shelf Type Corner Shelf', 'Assembled Length', 'Frequency Range', 'Stone Color', 'Input Voltage', 'Package Dimensions', 'Is portable', 'Liquid Volume', 'Neck Size', 'Operating Time', 'Exterior', 'Dosage Form', 'Special features', 'Capacity 18 Fluid Ounces', 'Metal Type', 'Maximum Print Speed (Color)', 'Max Temperature Setting', 'Genre', 'TV Size', 'Band Length', 'Indoor/Outdoor Usage', 'Media Type', 'Load Capacity', 'Orientation', 'Grip Size', 'Pages', 'Weight Limit', 'Package Information', 'Voltage', 'Style', 'Clasp Type', 'Finish', 'Body Shape', 'Display Technology', 'Total gem weight', 'Whats in the box', 'Mounting Type', 'Stone Clarity', 'Floor Area', 'Product Dimensions', 'Material Alloy Steel', 'Air Gun Power Type', 'Frame Type', 'Chest Size', 'Special Feature', 'Packaging', 'Band Color', 'Head Style', 'Team Name', 'Frame Material Metal, Wood', 'Gauge', 'Light Source Type', 'Warranty Type', 'Auto Shutoff', 'Volume', 'Is Autographed', 'Shell Type', 'Keyboard Description', 'Life Vest Type', 'Shape Rectangular', 'Fastener Material', 'Mounting Type Clip On', 'Hose Length', 'Grit Number', 'Department', 'Maximum Energy Output', 'Hair Type', 'Chain Type', 'Active Ingredients', 'Ply Rating', 'Item Dimensions  LxWxH', 'International Shipping', 'Number of Drawers', 'Number Of Discs', 'Paper Finish', 'Item Form', 'Material Plastic', 'Temperature Rating', 'Number of Dividers', 'Back Style', 'Room Type', 'Other camera features', 'Material Polyvinyl Chloride', 'Stone height', 'Base Type', 'Batteries required', 'Recommended Uses For Product', 'Total USB Ports', 'Compatible Phone Models', 'Capacity 15 Ounces', 'Brand Name', 'Insulation Material', 'Material', 'Material Composition', 'Cellular Technology', 'Fastener Type', 'Noise Control', 'Cap Type', 'Battery Cell Type', 'Number of Sets', 'Is Foldable', 'Microphone Form Factor', 'Display Type', 'Material Ceramic', 'Number of Shelves', 'Deck Width', 'Sterility Rating', 'Maximum Weight Recommendation', 'Compatible Material', 'Batteries', 'Occasion Halloween', 'Fabric Warmth Description', 'Installation Type Self-Adhesive', 'Color Name', 'Brand', 'Surface Recommendation Window', 'Power Source', 'Maximum Horsepower', 'Chamber Depth', 'Blade Shape', 'Handle Material', 'Bottom Shape', 'Capacity Total', 'Lifestyle', 'Stone Shape', 'Shape Round', 'Remote Control Included?', 'Item Firmness Description', 'Sleeve Type', 'Manufacturer recommended age', 'Output Voltage', 'Shape Irregular', 'Roast Level', 'Memory Storage Capacity', 'Sheet Size', 'CPSIA Cautionary Statement', 'Band Width', 'Grade Rating', 'Current Rating', 'Number of Jets', 'Antibacterial treatment', 'Number of Hooks', 'Wallet compartment type', 'Target gender', 'League', 'Grip Type', 'Handle Type', 'Skin Tone', 'Number of Speeds', 'Capacity 10.3 Ounces', 'Sheet Count', 'Assembly required', 'Size', 'Closure', 'Cable Type', 'Installation Type Peel', 'Number of pieces', 'Material Stainless Steel', 'Manufacturer Minimum Age (MONTHS)', 'Is Waterproof', 'Material Polyester', 'Inside Pockets', 'Item Hardness', 'Material Type(s)', 'Connector Gender', 'Unit Count', 'Maximum Height', 'Screen Surface Description', 'Sub Brand', 'Unit Grouping', 'Magnification Strength', 'Specific Uses For Product', 'Capacity 16 Fluid Ounces', 'Item Package Dimensions L x W x H', 'Surface Recommendation Plastic', 'Occasion', 'Age Range (Description)', 'Use for', 'Shade Material', 'Reading Interest (Max. Age)', 'Model Year', 'Opening Mechanism', 'Pole Material Type', 'Grip Material', 'Stone Length', 'Lock Type', 'Light Color', 'Sport Type', 'Hardware Platform', 'Item Diameter', 'Exterior Finish', 'Has Nonstick Coating', 'Number of Players', 'Number of Keys', 'Country/Region of origin', 'Item Weight', 'Strap Type', 'Refill', 'Tension Level', 'Printing Technology', 'Form Factor', 'Is Customizable', 'Tank Volume', 'Is Discontinued By Manufacturer', 'Number of Batteries', 'Best Sellers Rank', 'Number Of Items', 'Manufacturer', 'Pre-printed', 'Cartoon Character', 'Tick-repellent material', 'Blade Edge', 'Item Length', 'Embellishment', 'Maximum weight recommendation', 'Noise Attenuation', 'Lens Correction Type', 'Mirror Adjustment', 'Head Type', 'Mounting Type Tabletop Mount', 'Release date', 'Supported Application', 'Material Weather Resistant Fabric and Plastic', 'Band Material Type', 'Stone Weight', 'Minimum Height', 'Glove Type', 'Material Type', 'Top Material Type', 'Inner Material', 'Finish Type', 'Finish types', 'Weave Type', 'Wireless Communication Technology', 'Installation Type', 'Breed Recommendation', 'Item Weight 31 Pounds', 'Number of Pieces', 'Ink Color', 'Golf Club Flex', 'Scent', 'Assembled Width', 'Connectivity Technology', 'Shirt form type', 'Vehicle Service Type', 'Height Map', 'Bulb Base', 'Outer Material', 'Educational Objective', 'Biometric Security Feature', 'Stone treatment method', 'Number of Buttons', 'Material Glass, Acrylonitrile Butadiene Styrene, Polyvinyl ChlorideGlass, Acrylonitrile Butadiene Styrene, Polyvinyl Chloride  See more', 'Water Resistance Depth', 'Controller Type', 'Max Input Sheet Capacity', 'Material Stoneware', 'Paper Weight', 'Display Style', 'Material Glass', 'Surface Recommendation Wall', 'Cover Material', 'Wattage', 'Specific instructions for use', 'Charging Time', 'Is Stain Resistant', 'Band Size', 'Certificate Type', 'Lens Color', 'Rug Form Type', 'Hand Orientation', 'Target Species', 'Label', 'material_composition', 'UPC', 'Model Info', 'Number of Ports', 'Tea Variety', 'Water Resistance Technology', 'Operating System', 'ABPA Partslink Number', 'Dial Color', 'Wheel Material', 'Specialty', 'Total Power Outlets', 'Stone Width', 'Bristle Material', 'Platform', 'Import Designation', 'Variety', 'Shaft Material', 'Model Name', 'Number of settings', 'Material Metal', 'Size Map', 'Waist (cm)', 'Wheel Type', 'Pocket Description', 'Main Power Connector Type', 'Neck Style', 'Surface Recommendation', 'Lens Type', 'Part Number', 'Assembled Depth', 'Fabric cleaning', 'Opacity', 'Care instructions', 'Instrument Key', 'Rim Size', 'Sensor Type', 'Part number', 'Paint Type', 'Seasons', 'Capacity', 'Extended Length', 'Alarm Clock', 'Chamber Height', 'Surface Recommendation 2 inch', 'Response Time', 'Surface Recommendation Window, Wall', 'Measurement Type', 'Measurement System', 'Seat Material Type', 'Engine Type', 'Control Method', 'Theme', 'Format', 'Reading Interest (Min. Age)', 'Material Other', 'Capacity 11 Ounces, 15 Ounces', 'Target Audience', 'Fit Type', 'Item Thickness', 'Minimum weight recommendation', 'Package Type', 'Sport', 'Occupancy', 'Switch Type', 'Corner Style', 'Printer Output', 'Is framed?', 'Gem Type', 'With Lid', 'Brake Style', 'Number of Labels', 'Number of Items', 'Pattern', 'Product Benefits', 'Lamp Type', 'Controller Type Button Control', 'Material Metal, Steel', 'ASTM Fluid Rating', 'Additional product features', 'Specification Met', 'Item Length (Description)', 'Tab Position', 'Arch Type', 'Perfume', 'Item Package Quantity', 'UV protection', 'Special Features', 'Aspect Ratio', 'Suspension Type', 'Operation Mode', 'Towel form type', 'Pricing', 'Material Aluminum', 'Shelf Type Wood', 'Pillow Type', 'Sole Material', 'Bowl Material', 'Rechargeable Battery Included', 'Minimum Compatible Size', 'Collection Name', 'Warranty Description', 'Total Eaches', 'Capacitance', 'Occasion Birthday', 'Batteries Included?', 'Chain Length', 'Model', 'Light Type', 'Safety Rating', 'Assembly Required', 'Lining Description', 'Display type', 'Number Of Pieces', 'Import', 'Electric fan design', 'Magnification Maximum', 'Is Dishwasher Safe', 'Type of item', 'Color', 'Compatible Devices', 'Binding', 'Material Bronze', 'Maximum Range', 'Collar Style', 'Material Engineered Wood, Pine, Metal', 'Stone Cut', 'Other display features', 'Occupant Capacity', 'Number Of Pockets', 'Weight', 'Lens Coating Description', 'Graded By', 'Material Cotton', 'Shade Color', 'Batteries Required?', 'Age Range Description', 'Insole Material', 'Fixture Type', 'Number of Compartments', 'Material Acrylonitrile Butadiene Styrene', 'Material Feature', 'Water Resistance Level', 'Flavor', 'Shape L-Shaped', 'Ultraviolet Light Protection', 'Blanket Form', 'Wall Art Form', 'Number of Light Sources', 'Duration', 'Assembled Height', 'Capacity 11 Ounces', 'Blade Material', 'Human Interface Input', 'Diet Type', 'Battery Capacity', 'Switch Style', 'Item Weight 14 Pounds', 'Country of Origin', 'Installation Type Adhesive', 'Closure Type', 'Map Type', 'Product Care Instructions', 'Number of Wheels', 'Vehicle Service Type Passenger Car', 'Golf Club Loft', 'Surface Recommendation Door', 'Extension Length', 'Material Vinyl', 'Type of Bulb', 'Chamber Width', 'Belt Style', 'Fill Material Type', 'Fuel Type', 'Manufacturer Part Number', 'Brightness', 'Focus Type', 'Construction Type', 'Caster Type', 'Domestic Shipping', 'Material Type Free', 'Installation Method', 'Language', 'GPS', 'Seat Material Type Suede', 'Control Type', 'Mounting Type Window Mount', 'Auto Part Position', 'Our Recommended age', 'Battery Cell Composition', 'Pin type', 'Maximum Height Recommendation', 'Fill Material', 'Frame Material', 'Furniture Finish', 'Skin Type', 'Denomination Unit'}\n"
     ]
    }
   ],
   "source": [
    "details = list(df['details'])\n",
    "\n",
    "detail_keys = set()\n",
    "\n",
    "for detail in details:\n",
    "    for k in detail:\n",
    "        detail_keys.add(k)\n",
    "\n",
    "print(detail_keys)"
   ]
  },
  {
   "cell_type": "code",
   "execution_count": 11,
   "metadata": {},
   "outputs": [
    {
     "name": "stdout",
     "output_type": "stream",
     "text": [
      "Percentage of items that have some features\n"
     ]
    },
    {
     "data": {
      "text/plain": [
       "0.5605489839100941"
      ]
     },
     "execution_count": 11,
     "metadata": {},
     "output_type": "execute_result"
    }
   ],
   "source": [
    "print(\"Percentage of items that have some features\")\n",
    "sum(df['features'].apply(lambda x: 1 if len(x) > 0 else 0)) / len(df)"
   ]
  },
  {
   "cell_type": "code",
   "execution_count": 12,
   "metadata": {},
   "outputs": [
    {
     "name": "stdout",
     "output_type": "stream",
     "text": [
      "Percentage of items that have a description\n"
     ]
    },
    {
     "data": {
      "text/plain": [
       "0.07176906651430563"
      ]
     },
     "execution_count": 12,
     "metadata": {},
     "output_type": "execute_result"
    }
   ],
   "source": [
    "print(\"Percentage of items that have a description\")\n",
    "sum(df['description'].apply(lambda x: 1 if len(x) > 0 else 0)) / len(df)"
   ]
  },
  {
   "cell_type": "code",
   "execution_count": 13,
   "metadata": {},
   "outputs": [
    {
     "data": {
      "text/plain": [
       "np.int64(50249)"
      ]
     },
     "execution_count": 13,
     "metadata": {},
     "output_type": "execute_result"
    }
   ],
   "source": [
    "df['price'].count()"
   ]
  },
  {
   "cell_type": "code",
   "execution_count": 14,
   "metadata": {},
   "outputs": [
    {
     "data": {
      "text/plain": [
       "np.int64(826108)"
      ]
     },
     "execution_count": 14,
     "metadata": {},
     "output_type": "execute_result"
    }
   ],
   "source": [
    "df['rating_number'].count()"
   ]
  },
  {
   "cell_type": "code",
   "execution_count": 15,
   "metadata": {},
   "outputs": [
    {
     "data": {
      "text/html": [
       "<div>\n",
       "<style scoped>\n",
       "    .dataframe tbody tr th:only-of-type {\n",
       "        vertical-align: middle;\n",
       "    }\n",
       "\n",
       "    .dataframe tbody tr th {\n",
       "        vertical-align: top;\n",
       "    }\n",
       "\n",
       "    .dataframe thead th {\n",
       "        text-align: right;\n",
       "    }\n",
       "</style>\n",
       "<table border=\"1\" class=\"dataframe\">\n",
       "  <thead>\n",
       "    <tr style=\"text-align: right;\">\n",
       "      <th></th>\n",
       "      <th>title</th>\n",
       "      <th>average_rating</th>\n",
       "      <th>rating_number</th>\n",
       "      <th>features</th>\n",
       "      <th>description</th>\n",
       "      <th>price</th>\n",
       "      <th>images</th>\n",
       "      <th>store</th>\n",
       "      <th>details</th>\n",
       "      <th>thumbnail</th>\n",
       "    </tr>\n",
       "  </thead>\n",
       "  <tbody>\n",
       "    <tr>\n",
       "      <th>0</th>\n",
       "      <td>YUEDGE 5 Pairs Men's Moisture Control Cushione...</td>\n",
       "      <td>4.6</td>\n",
       "      <td>16</td>\n",
       "      <td>[]</td>\n",
       "      <td>[]</td>\n",
       "      <td>NaN</td>\n",
       "      <td>[{'thumb': 'https://m.media-amazon.com/images/...</td>\n",
       "      <td>GiveGift</td>\n",
       "      <td>{'Package Dimensions': '10.31 x 8.5 x 1.73 inc...</td>\n",
       "      <td>https://m.media-amazon.com/images/I/41+cCfaVOF...</td>\n",
       "    </tr>\n",
       "    <tr>\n",
       "      <th>1</th>\n",
       "      <td>DouBCQ Women's Palazzo Lounge Wide Leg Casual ...</td>\n",
       "      <td>4.1</td>\n",
       "      <td>7</td>\n",
       "      <td>[Drawstring closure, Machine Wash]</td>\n",
       "      <td>[]</td>\n",
       "      <td>NaN</td>\n",
       "      <td>[{'thumb': 'https://m.media-amazon.com/images/...</td>\n",
       "      <td>DouBCQ</td>\n",
       "      <td>{'Package Dimensions': '15 x 10.2 x 0.4 inches...</td>\n",
       "      <td>https://m.media-amazon.com/images/I/515cR-ta1E...</td>\n",
       "    </tr>\n",
       "    <tr>\n",
       "      <th>2</th>\n",
       "      <td>Pastel by Vivienne Honey Vanilla Girls' Trapez...</td>\n",
       "      <td>4.3</td>\n",
       "      <td>11</td>\n",
       "      <td>[Zipper closure, Hand Wash Only]</td>\n",
       "      <td>[]</td>\n",
       "      <td>NaN</td>\n",
       "      <td>[{'thumb': 'https://m.media-amazon.com/images/...</td>\n",
       "      <td>Pastel by Vivienne</td>\n",
       "      <td>{'Is Discontinued By Manufacturer': 'No', 'Pac...</td>\n",
       "      <td>https://m.media-amazon.com/images/I/31GwmwNCdA...</td>\n",
       "    </tr>\n",
       "    <tr>\n",
       "      <th>3</th>\n",
       "      <td>Mento Streamtail</td>\n",
       "      <td>2.0</td>\n",
       "      <td>1</td>\n",
       "      <td>[Thermoplastic Rubber sole, High Density Premi...</td>\n",
       "      <td>[Slip on the Women's Mento and you're ready to...</td>\n",
       "      <td>29.81</td>\n",
       "      <td>[{'thumb': 'https://m.media-amazon.com/images/...</td>\n",
       "      <td>Guy Harvey</td>\n",
       "      <td>{'Package Dimensions': '11.22 x 4.72 x 4.33 in...</td>\n",
       "      <td>https://m.media-amazon.com/images/I/31P-uHUUIX...</td>\n",
       "    </tr>\n",
       "    <tr>\n",
       "      <th>4</th>\n",
       "      <td>RONNOX Women's 3-Pairs Bright Colored Calf Com...</td>\n",
       "      <td>4.3</td>\n",
       "      <td>3032</td>\n",
       "      <td>[Pull On closure, Size Guide: \"S\" fits calf 10...</td>\n",
       "      <td>[Ronnox Calf Sleeves - Allowing Your Body to P...</td>\n",
       "      <td>17.99</td>\n",
       "      <td>[{'thumb': 'https://m.media-amazon.com/images/...</td>\n",
       "      <td>RONNOX</td>\n",
       "      <td>{'Is Discontinued By Manufacturer': 'No', 'Pac...</td>\n",
       "      <td>https://m.media-amazon.com/images/I/51CqMDJOOD...</td>\n",
       "    </tr>\n",
       "  </tbody>\n",
       "</table>\n",
       "</div>"
      ],
      "text/plain": [
       "                                               title  average_rating  \\\n",
       "0  YUEDGE 5 Pairs Men's Moisture Control Cushione...             4.6   \n",
       "1  DouBCQ Women's Palazzo Lounge Wide Leg Casual ...             4.1   \n",
       "2  Pastel by Vivienne Honey Vanilla Girls' Trapez...             4.3   \n",
       "3                                   Mento Streamtail             2.0   \n",
       "4  RONNOX Women's 3-Pairs Bright Colored Calf Com...             4.3   \n",
       "\n",
       "   rating_number                                           features  \\\n",
       "0             16                                                 []   \n",
       "1              7                 [Drawstring closure, Machine Wash]   \n",
       "2             11                   [Zipper closure, Hand Wash Only]   \n",
       "3              1  [Thermoplastic Rubber sole, High Density Premi...   \n",
       "4           3032  [Pull On closure, Size Guide: \"S\" fits calf 10...   \n",
       "\n",
       "                                         description  price  \\\n",
       "0                                                 []    NaN   \n",
       "1                                                 []    NaN   \n",
       "2                                                 []    NaN   \n",
       "3  [Slip on the Women's Mento and you're ready to...  29.81   \n",
       "4  [Ronnox Calf Sleeves - Allowing Your Body to P...  17.99   \n",
       "\n",
       "                                              images               store  \\\n",
       "0  [{'thumb': 'https://m.media-amazon.com/images/...            GiveGift   \n",
       "1  [{'thumb': 'https://m.media-amazon.com/images/...              DouBCQ   \n",
       "2  [{'thumb': 'https://m.media-amazon.com/images/...  Pastel by Vivienne   \n",
       "3  [{'thumb': 'https://m.media-amazon.com/images/...          Guy Harvey   \n",
       "4  [{'thumb': 'https://m.media-amazon.com/images/...              RONNOX   \n",
       "\n",
       "                                             details  \\\n",
       "0  {'Package Dimensions': '10.31 x 8.5 x 1.73 inc...   \n",
       "1  {'Package Dimensions': '15 x 10.2 x 0.4 inches...   \n",
       "2  {'Is Discontinued By Manufacturer': 'No', 'Pac...   \n",
       "3  {'Package Dimensions': '11.22 x 4.72 x 4.33 in...   \n",
       "4  {'Is Discontinued By Manufacturer': 'No', 'Pac...   \n",
       "\n",
       "                                           thumbnail  \n",
       "0  https://m.media-amazon.com/images/I/41+cCfaVOF...  \n",
       "1  https://m.media-amazon.com/images/I/515cR-ta1E...  \n",
       "2  https://m.media-amazon.com/images/I/31GwmwNCdA...  \n",
       "3  https://m.media-amazon.com/images/I/31P-uHUUIX...  \n",
       "4  https://m.media-amazon.com/images/I/51CqMDJOOD...  "
      ]
     },
     "execution_count": 15,
     "metadata": {},
     "output_type": "execute_result"
    }
   ],
   "source": [
    "# Extract first image thumbnail URL from images list\n",
    "df['thumbnail'] = df['images'].apply(lambda x: x[0]['thumb'] if x and len(x) > 0 and 'thumb' in x[0] else None)\n",
    "\n",
    "# Display sample of data with new thumbnail column\n",
    "df.head()\n"
   ]
  },
  {
   "cell_type": "code",
   "execution_count": 16,
   "metadata": {},
   "outputs": [],
   "source": [
    "# Drop additional columns\n",
    "df = df.drop(['details', 'images'], axis=1)"
   ]
  },
  {
   "cell_type": "code",
   "execution_count": 17,
   "metadata": {},
   "outputs": [],
   "source": [
    "# Reduces the dataset\n",
    "df = df[df['price'].isna() == False]"
   ]
  },
  {
   "cell_type": "code",
   "execution_count": 18,
   "metadata": {},
   "outputs": [
    {
     "data": {
      "text/plain": [
       "50249"
      ]
     },
     "execution_count": 18,
     "metadata": {},
     "output_type": "execute_result"
    }
   ],
   "source": [
    "len(df)"
   ]
  },
  {
   "cell_type": "code",
   "execution_count": null,
   "metadata": {},
   "outputs": [],
   "source": [
    "print(\"Percentage of items that have some features\")\n",
    "sum(df['features'].apply(lambda x: 1 if len(x) > 0 else 0)) / len(df)"
   ]
  },
  {
   "cell_type": "code",
   "execution_count": null,
   "metadata": {},
   "outputs": [],
   "source": [
    "print(\"Percentage of items that have a description\")\n",
    "sum(df['description'].apply(lambda x: 1 if len(x) > 0 else 0)) / len(df)"
   ]
  },
  {
   "cell_type": "code",
   "execution_count": 45,
   "metadata": {},
   "outputs": [],
   "source": [
    "def generate_product_spec_string(df_row):\n",
    "    result = \"\"\n",
    "    result += df_row['title']\n",
    "    if len(df_row['features']) > 0:\n",
    "        result = result + \" \"  + \" \".join(df_row['features'])\n",
    "\n",
    "    if len(df_row['description']) > 0:\n",
    "        result = result + \" \"  + \" \".join(df_row['description'])\n",
    "\n",
    "    return result\n",
    "\n",
    "\n",
    "df['product_spec'] = df.apply(generate_product_spec_string, axis=1)"
   ]
  },
  {
   "cell_type": "code",
   "execution_count": null,
   "metadata": {},
   "outputs": [],
   "source": [
    "df.head()"
   ]
  },
  {
   "cell_type": "code",
   "execution_count": null,
   "metadata": {},
   "outputs": [],
   "source": [
    "df.to_json('../data/processed_data.jsonl', orient='records', lines=True)"
   ]
  }
 ],
 "metadata": {
  "kernelspec": {
   "display_name": ".venv",
   "language": "python",
   "name": "python3"
  },
  "language_info": {
   "codemirror_mode": {
    "name": "ipython",
    "version": 3
   },
   "file_extension": ".py",
   "mimetype": "text/x-python",
   "name": "python",
   "nbconvert_exporter": "python",
   "pygments_lexer": "ipython3",
   "version": "3.13.1"
  }
 },
 "nbformat": 4,
 "nbformat_minor": 2
}
