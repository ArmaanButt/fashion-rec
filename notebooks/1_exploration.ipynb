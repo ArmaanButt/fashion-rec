{
 "cells": [
  {
   "cell_type": "code",
   "execution_count": 1,
   "metadata": {},
   "outputs": [],
   "source": [
    "import pandas as pd"
   ]
  },
  {
   "cell_type": "code",
   "execution_count": 2,
   "metadata": {},
   "outputs": [],
   "source": [
    "df = pd.read_json('../data/meta_Amazon_Fashion.jsonl', lines=True)"
   ]
  },
  {
   "cell_type": "code",
   "execution_count": 4,
   "metadata": {},
   "outputs": [
    {
     "data": {
      "text/plain": [
       "826108"
      ]
     },
     "execution_count": 4,
     "metadata": {},
     "output_type": "execute_result"
    }
   ],
   "source": [
    "# Number of rows\n",
    "len(df)"
   ]
  },
  {
   "cell_type": "code",
   "execution_count": 3,
   "metadata": {},
   "outputs": [
    {
     "data": {
      "text/html": [
       "<div>\n",
       "<style scoped>\n",
       "    .dataframe tbody tr th:only-of-type {\n",
       "        vertical-align: middle;\n",
       "    }\n",
       "\n",
       "    .dataframe tbody tr th {\n",
       "        vertical-align: top;\n",
       "    }\n",
       "\n",
       "    .dataframe thead th {\n",
       "        text-align: right;\n",
       "    }\n",
       "</style>\n",
       "<table border=\"1\" class=\"dataframe\">\n",
       "  <thead>\n",
       "    <tr style=\"text-align: right;\">\n",
       "      <th></th>\n",
       "      <th>main_category</th>\n",
       "      <th>title</th>\n",
       "      <th>average_rating</th>\n",
       "      <th>rating_number</th>\n",
       "      <th>features</th>\n",
       "      <th>description</th>\n",
       "      <th>price</th>\n",
       "      <th>images</th>\n",
       "      <th>videos</th>\n",
       "      <th>store</th>\n",
       "      <th>categories</th>\n",
       "      <th>details</th>\n",
       "      <th>parent_asin</th>\n",
       "      <th>bought_together</th>\n",
       "    </tr>\n",
       "  </thead>\n",
       "  <tbody>\n",
       "    <tr>\n",
       "      <th>0</th>\n",
       "      <td>AMAZON FASHION</td>\n",
       "      <td>YUEDGE 5 Pairs Men's Moisture Control Cushione...</td>\n",
       "      <td>4.6</td>\n",
       "      <td>16</td>\n",
       "      <td>[]</td>\n",
       "      <td>[]</td>\n",
       "      <td>NaN</td>\n",
       "      <td>[{'thumb': 'https://m.media-amazon.com/images/...</td>\n",
       "      <td>[]</td>\n",
       "      <td>GiveGift</td>\n",
       "      <td>[]</td>\n",
       "      <td>{'Package Dimensions': '10.31 x 8.5 x 1.73 inc...</td>\n",
       "      <td>B08BHN9PK5</td>\n",
       "      <td>NaN</td>\n",
       "    </tr>\n",
       "    <tr>\n",
       "      <th>1</th>\n",
       "      <td>AMAZON FASHION</td>\n",
       "      <td>DouBCQ Women's Palazzo Lounge Wide Leg Casual ...</td>\n",
       "      <td>4.1</td>\n",
       "      <td>7</td>\n",
       "      <td>[Drawstring closure, Machine Wash]</td>\n",
       "      <td>[]</td>\n",
       "      <td>NaN</td>\n",
       "      <td>[{'thumb': 'https://m.media-amazon.com/images/...</td>\n",
       "      <td>[]</td>\n",
       "      <td>DouBCQ</td>\n",
       "      <td>[]</td>\n",
       "      <td>{'Package Dimensions': '15 x 10.2 x 0.4 inches...</td>\n",
       "      <td>B08R39MRDW</td>\n",
       "      <td>NaN</td>\n",
       "    </tr>\n",
       "    <tr>\n",
       "      <th>2</th>\n",
       "      <td>AMAZON FASHION</td>\n",
       "      <td>Pastel by Vivienne Honey Vanilla Girls' Trapez...</td>\n",
       "      <td>4.3</td>\n",
       "      <td>11</td>\n",
       "      <td>[Zipper closure, Hand Wash Only]</td>\n",
       "      <td>[]</td>\n",
       "      <td>NaN</td>\n",
       "      <td>[{'thumb': 'https://m.media-amazon.com/images/...</td>\n",
       "      <td>[]</td>\n",
       "      <td>Pastel by Vivienne</td>\n",
       "      <td>[]</td>\n",
       "      <td>{'Is Discontinued By Manufacturer': 'No', 'Pac...</td>\n",
       "      <td>B077KJHCJ4</td>\n",
       "      <td>NaN</td>\n",
       "    </tr>\n",
       "    <tr>\n",
       "      <th>3</th>\n",
       "      <td>AMAZON FASHION</td>\n",
       "      <td>Mento Streamtail</td>\n",
       "      <td>2.0</td>\n",
       "      <td>1</td>\n",
       "      <td>[Thermoplastic Rubber sole, High Density Premi...</td>\n",
       "      <td>[Slip on the Women's Mento and you're ready to...</td>\n",
       "      <td>29.81</td>\n",
       "      <td>[{'thumb': 'https://m.media-amazon.com/images/...</td>\n",
       "      <td>[]</td>\n",
       "      <td>Guy Harvey</td>\n",
       "      <td>[]</td>\n",
       "      <td>{'Package Dimensions': '11.22 x 4.72 x 4.33 in...</td>\n",
       "      <td>B0811M2JG9</td>\n",
       "      <td>NaN</td>\n",
       "    </tr>\n",
       "    <tr>\n",
       "      <th>4</th>\n",
       "      <td>AMAZON FASHION</td>\n",
       "      <td>RONNOX Women's 3-Pairs Bright Colored Calf Com...</td>\n",
       "      <td>4.3</td>\n",
       "      <td>3032</td>\n",
       "      <td>[Pull On closure, Size Guide: \"S\" fits calf 10...</td>\n",
       "      <td>[Ronnox Calf Sleeves - Allowing Your Body to P...</td>\n",
       "      <td>17.99</td>\n",
       "      <td>[{'thumb': 'https://m.media-amazon.com/images/...</td>\n",
       "      <td>[{'title': 'HONEST Review: RONNOX Women's 3-Pa...</td>\n",
       "      <td>RONNOX</td>\n",
       "      <td>[]</td>\n",
       "      <td>{'Is Discontinued By Manufacturer': 'No', 'Pac...</td>\n",
       "      <td>B07SB2892S</td>\n",
       "      <td>NaN</td>\n",
       "    </tr>\n",
       "  </tbody>\n",
       "</table>\n",
       "</div>"
      ],
      "text/plain": [
       "    main_category                                              title  \\\n",
       "0  AMAZON FASHION  YUEDGE 5 Pairs Men's Moisture Control Cushione...   \n",
       "1  AMAZON FASHION  DouBCQ Women's Palazzo Lounge Wide Leg Casual ...   \n",
       "2  AMAZON FASHION  Pastel by Vivienne Honey Vanilla Girls' Trapez...   \n",
       "3  AMAZON FASHION                                   Mento Streamtail   \n",
       "4  AMAZON FASHION  RONNOX Women's 3-Pairs Bright Colored Calf Com...   \n",
       "\n",
       "   average_rating  rating_number  \\\n",
       "0             4.6             16   \n",
       "1             4.1              7   \n",
       "2             4.3             11   \n",
       "3             2.0              1   \n",
       "4             4.3           3032   \n",
       "\n",
       "                                            features  \\\n",
       "0                                                 []   \n",
       "1                 [Drawstring closure, Machine Wash]   \n",
       "2                   [Zipper closure, Hand Wash Only]   \n",
       "3  [Thermoplastic Rubber sole, High Density Premi...   \n",
       "4  [Pull On closure, Size Guide: \"S\" fits calf 10...   \n",
       "\n",
       "                                         description  price  \\\n",
       "0                                                 []    NaN   \n",
       "1                                                 []    NaN   \n",
       "2                                                 []    NaN   \n",
       "3  [Slip on the Women's Mento and you're ready to...  29.81   \n",
       "4  [Ronnox Calf Sleeves - Allowing Your Body to P...  17.99   \n",
       "\n",
       "                                              images  \\\n",
       "0  [{'thumb': 'https://m.media-amazon.com/images/...   \n",
       "1  [{'thumb': 'https://m.media-amazon.com/images/...   \n",
       "2  [{'thumb': 'https://m.media-amazon.com/images/...   \n",
       "3  [{'thumb': 'https://m.media-amazon.com/images/...   \n",
       "4  [{'thumb': 'https://m.media-amazon.com/images/...   \n",
       "\n",
       "                                              videos               store  \\\n",
       "0                                                 []            GiveGift   \n",
       "1                                                 []              DouBCQ   \n",
       "2                                                 []  Pastel by Vivienne   \n",
       "3                                                 []          Guy Harvey   \n",
       "4  [{'title': 'HONEST Review: RONNOX Women's 3-Pa...              RONNOX   \n",
       "\n",
       "  categories                                            details parent_asin  \\\n",
       "0         []  {'Package Dimensions': '10.31 x 8.5 x 1.73 inc...  B08BHN9PK5   \n",
       "1         []  {'Package Dimensions': '15 x 10.2 x 0.4 inches...  B08R39MRDW   \n",
       "2         []  {'Is Discontinued By Manufacturer': 'No', 'Pac...  B077KJHCJ4   \n",
       "3         []  {'Package Dimensions': '11.22 x 4.72 x 4.33 in...  B0811M2JG9   \n",
       "4         []  {'Is Discontinued By Manufacturer': 'No', 'Pac...  B07SB2892S   \n",
       "\n",
       "   bought_together  \n",
       "0              NaN  \n",
       "1              NaN  \n",
       "2              NaN  \n",
       "3              NaN  \n",
       "4              NaN  "
      ]
     },
     "execution_count": 3,
     "metadata": {},
     "output_type": "execute_result"
    }
   ],
   "source": [
    "df.head()"
   ]
  },
  {
   "cell_type": "markdown",
   "metadata": {},
   "source": [
    "Trying to understand the data. I want to reduce the dataset as much as possible an focus on high value data."
   ]
  },
  {
   "cell_type": "code",
   "execution_count": 6,
   "metadata": {},
   "outputs": [
    {
     "data": {
      "text/plain": [
       "Index(['main_category', 'title', 'average_rating', 'rating_number', 'features',\n",
       "       'description', 'price', 'images', 'videos', 'store', 'categories',\n",
       "       'details', 'parent_asin'],\n",
       "      dtype='object')"
      ]
     },
     "execution_count": 6,
     "metadata": {},
     "output_type": "execute_result"
    }
   ],
   "source": [
    "# Drop columns that are entirely empty\n",
    "df = df.dropna(axis=1, how='all')\n",
    "df.columns"
   ]
  },
  {
   "cell_type": "code",
   "execution_count": 8,
   "metadata": {},
   "outputs": [
    {
     "name": "stdout",
     "output_type": "stream",
     "text": [
      "Unique main categories:\n",
      "['AMAZON FASHION']\n"
     ]
    }
   ],
   "source": [
    "# Get unique values for key columns\n",
    "print(\"Unique main categories:\")\n",
    "print(df['main_category'].unique())\n"
   ]
  },
  {
   "cell_type": "code",
   "execution_count": 9,
   "metadata": {},
   "outputs": [
    {
     "name": "stdout",
     "output_type": "stream",
     "text": [
      "Number of rows with non-empty categories: 0\n"
     ]
    }
   ],
   "source": [
    "# Check for non-empty category lists\n",
    "print(\"Number of rows with non-empty categories:\", \n",
    "      len(df[df['categories'].apply(lambda x: len(x) > 0)]))\n",
    "\n"
   ]
  },
  {
   "cell_type": "code",
   "execution_count": 10,
   "metadata": {},
   "outputs": [
    {
     "name": "stdout",
     "output_type": "stream",
     "text": [
      "\n",
      "Parent ASIN counts (descending):\n",
      "parent_asin\n",
      "B08BHN9PK5    1\n",
      "B00TT1OOB2    1\n",
      "B08JTB3V2P    1\n",
      "B01HI6GS2M    1\n",
      "B01IU8B5Y8    1\n",
      "             ..\n",
      "B07HR134XV    1\n",
      "B0823QNLLC    1\n",
      "B07DSC93F8    1\n",
      "B0176WL1FC    1\n",
      "B0895H6NWS    1\n",
      "Name: count, Length: 826108, dtype: int64\n"
     ]
    }
   ],
   "source": [
    "# Group by parent_asin and count occurrences, sort in descending order\n",
    "parent_asin_counts = df['parent_asin'].value_counts()\n",
    "print(\"\\nParent ASIN counts (descending):\")\n",
    "print(parent_asin_counts)\n"
   ]
  },
  {
   "cell_type": "code",
   "execution_count": 11,
   "metadata": {},
   "outputs": [
    {
     "data": {
      "text/plain": [
       "Index(['title', 'average_rating', 'rating_number', 'features', 'description',\n",
       "       'price', 'images', 'store', 'details'],\n",
       "      dtype='object')"
      ]
     },
     "execution_count": 11,
     "metadata": {},
     "output_type": "execute_result"
    }
   ],
   "source": [
    "# Drop specified columns\n",
    "df = df.drop(['main_category', 'videos', 'categories', 'parent_asin'], axis=1)\n",
    "df.columns"
   ]
  },
  {
   "cell_type": "code",
   "execution_count": 16,
   "metadata": {},
   "outputs": [
    {
     "name": "stdout",
     "output_type": "stream",
     "text": [
      "{'', 'Material Bronze', 'Capacity 11 Ounces', 'Format', 'Vehicle Service Type', 'Tank Volume', 'Target Species', 'Base Material', 'Lamp Type', 'Use for', 'Number of Speeds', 'Perfume', 'Number of Drawers', 'Display Technology', 'Body Shape', 'Surface Recommendation Door', 'Country/Region of origin', 'Max Input Sheet Capacity', 'Sport Type', 'Life Vest Type', 'Chamber Depth', 'Whats in the box', 'Packaging', 'Mounting Type Window Mount', 'Material Feature', 'Drain Type', 'Sensor Type', 'Ink Color', 'Collar Style', 'Capacity 16 Fluid Ounces', 'Band Size', 'Shaft Height', 'Cellular Technology', 'Ultraviolet Light Protection', 'Item Firmness Description', 'Number of Hooks', 'Specification Met', 'Brand Name', 'Wheel Type', 'Installation Type Self-Adhesive', 'Magnification Maximum', 'Handle Type', 'Material Silicone', 'Age Range (Description)', 'Compatible Material', 'Material Type(s)', 'Wireless network technology', 'Waist (cm)', 'Frame Material Metal, Wood', 'Assembled Width', 'Weave Type', 'Size Map', 'Closure Type', 'Extension Length', 'Item Length (Description)', 'Occasion', 'Batteries Included?', 'Capacitance', 'Suggested Users', 'Sole Material', 'Capacity 11 Ounces, 15 Ounces', 'Product Care Instructions', 'Warranty Type', 'Country of Origin', 'Head Type', 'Total USB Ports', 'Controller Type', 'Target Audience', 'Style', 'Target gender', 'Cover Material', 'Ruling Type', 'Batteries Required?', 'Extended Length', 'Number of Jets', 'Rug Form Type', 'Strap Type', 'Stone Color', 'Number of Ports', 'Caster Type', 'Skill Level', 'Chain Type', 'Connector Gender', 'Fill Material', 'Band Material Type', 'Scent', 'Material Stainless Steel', 'Collection Name', 'Surface Recommendation Nail', 'Hand Orientation', 'Specific Uses For Product', 'Product Dimensions', 'Orientation', 'Filter Class', 'Other camera features', 'Mounting Type', 'Is portable', 'Stone Shape', 'Bulb Base', 'Band Width', 'Load Capacity', 'Number Of Pieces', 'Number Of Items', 'Shelf Type Wood', 'Height Map', 'Cartoon Character', 'Grip Material', 'Voltage', 'Air Gun Power Type', 'Material Stoneware', 'Assembled Depth', 'Alarm Clock', 'Item Weight', 'OEM Part Number', 'International Shipping', 'Unit Grouping', 'League', 'Shelf Type Corner Shelf', 'Included Components', 'Embellishment', 'Number of Light Sources', 'Pricing', 'Total gem weight', 'Lens Color', 'Grit Number', 'Magnification Strength', 'Fabric Warmth Description', 'Shaft Material', 'Manufacturer', 'Date First Available', 'Item Display Dimensions', 'Item Package Quantity', 'Electric fan design', 'Finish', 'Material Metal', 'Wheel Material', 'Water Resistance Depth', 'Material Ceramic', 'Neck Size', 'Chest Size', 'Puzzle type', 'Assembled Length', 'Max Temperature Setting', 'Material Type Free', 'Material Alloy Steel', 'Fixture Type', 'Hardware Interface', 'Hair Type', 'Maximum Energy Output', 'Cable Feature', 'Number of Sets', 'Towel form type', 'Maximum Weight Recommendation', 'Import Designation', 'Wattage', 'Wheel Size', 'Lens Coating Description', 'Charging Time', 'Number of Pieces', 'Number of Players', 'Team Name', 'Lining Description', 'Number of Blades', 'Special features', 'Floor Area', 'Material Aluminum', 'Maximum Print Speed (Color)', 'Light Type', 'Connectivity Technology', 'Battery Cell Composition', 'Binding', 'Finish types', 'Lock Type', 'Manufacturer Part Number', 'Noise Attenuation', 'Fuel Type', 'Handle Material', 'Capacity 18 Fluid Ounces', 'Plant or Animal Product Type', 'UV protection', 'Color Name', 'Opening Mechanism', 'Vehicle Service Type Passenger Car', 'Belt Style', 'Certificate Type', 'Neck Style', 'Compatible Devices', 'Control Method', 'Item Weight 31 Pounds', 'Material', 'Is Customizable', 'Sport', 'Suspension Type', 'Occupant Capacity', 'Screen Size', 'Unit Count', 'Capacity 11 Fluid Ounces', 'Thread Type', 'Model Year', 'Printer Output', 'Lifestyle', 'Surface Recommendation Wall', 'Is framed?', 'Brake Style', 'Maximum Range', 'Golf Club Loft', 'Pile Height', 'Material Composition', 'Controller Type Button Control', 'Variety', 'Pocket Description', 'Outer Material', 'Denomination Unit', 'Shade Color', 'Main Power Connector Type', 'Insole Material', 'Golf Club Flex', 'Seat Height', 'CPSIA Cautionary Statement', 'Chamber Height', 'Noise Control', 'Product Benefits', 'Other display features', 'Head Style', 'Material Metal, Steel', 'Year', 'Color', 'Breed Recommendation', 'Material Other', 'Dosage Form', 'Insole Type', 'Measurement Type', 'Exterior Finish', 'Maximum weight recommendation', 'Minimum Age Recomendation', 'Design', 'Shape', 'Material Plastic', 'Assembly Required', 'Stone treatment method', 'Usage', 'Safety Rating', 'Specialty', 'Installation Method', 'Pillow Type', 'Item Thickness', 'Screen Surface Description', 'Reading Interest (Min. Age)', 'material_composition', 'Watch Movement', 'Top Style', 'Item Hardness', 'Package Dimensions', 'Item Dimensions LxWxH', 'Display Type', 'Battery Cell Type', 'Pages', 'Theme', 'Indoor/Outdoor Usage', 'Shirt form type', 'Material Cotton', 'Sheet Count', 'Import', 'Maximum Horsepower', 'Installation Type Peel', 'Chamber Width', 'Cable Type', 'Band Length', 'Sub Brand', 'Auto Part Position', 'Compatible Phone Models', 'Pin type', 'Stone height', 'Tab Position', 'Number of Wheels', 'Capacity Total', 'Exterior', 'Eye Relief', 'Temperature Rating', 'Liquid Volume', 'Surface Recommendation Plastic', 'Blade Edge', 'Item Form', 'Number of settings', 'Shape Round', 'Sheet Size', 'Hose Length', 'Aspect Ratio', 'Best Sellers Rank', 'Graded By', 'Assembly required', 'Model Info', 'Room Type', 'Total Diamond Weight', 'Stone Weight', 'Base Type', 'Operating Time', 'Is Dishwasher Safe', 'Wireless Communication Technology', 'Fastener Material', 'Number of pieces', 'Memory Storage Capacity', 'Material Glass, Acrylonitrile Butadiene Styrene, Polyvinyl ChlorideGlass, Acrylonitrile Butadiene Styrene, Polyvinyl Chloride  See more', 'Shape L-Shaped', 'Surface Recommendation', 'Duration', 'Form Factor', 'Number of Dividers', 'Lens Type', 'Shell Type', 'Occasion Birthday', 'Model Name', 'National Stock Number', 'Special Feature', 'Microphone Form Factor', 'Material Acrylonitrile Butadiene Styrene', 'Package Information', 'GPS', 'Minimum Compatible Size', 'Chain Length', 'Inner Material', 'Locking', 'Corner Style', 'Glove Type', 'Maximum Height Recommendation', 'Special Features', 'Seat Material Type', 'Seasons', 'Pre-printed', 'Auto Shutoff', 'Roast Level', 'Max Printspeed Monochrome', 'Rechargeable Battery Included', 'Specific instructions for use', 'Light Source Type', 'Thickness', 'Liquid Contents Description', 'Stone Width', 'Platform', 'Input Voltage', 'Bike Type', 'Label', 'Fit Type', 'Top Material Type', 'Arch Type', 'Number Of Discs', 'Material Glass', 'Gem Type', 'Incontinence Protector Type', 'Wallet compartment type', 'Material Engineered Wood, Pine, Metal', 'Weight Limit', 'Metal Stamp', 'Ply Rating', 'Batteries', 'Printing Technology', 'Age Range Description', 'Clasp Type', 'Bristle Material', 'Shape Rectangular', 'Type of Bulb', 'Sleeve Type', 'Night vision', 'Occupancy', 'Item model number', 'Manufacturer Minimum Age (MONTHS)', 'Paint Type', 'Refill', 'Active Ingredients', 'Material Weather Resistant Fabric and Plastic', 'Minimum Weight Recommendation', 'Is Foldable', 'Occasion Travel', 'Number of Batteries', 'Opacity', 'Material Polyvinyl Chloride', 'Power Source', 'Operation Mode', 'Supported Application', 'Human Interface Input', 'Minimum weight recommendation', 'Units', 'Capacity', 'Number of Keys', 'Blade Material', 'Item Diameter', 'Insulation Material', 'Display type', 'Closure', 'Pattern', 'Brand', 'Volume', 'Band Color', 'Reading Interest (Max. Age)', 'Back Style', 'Movement Detection Technology', 'Response Time', 'Assembled Height', 'Language', 'Are Batteries Included', 'With Lid', 'TV Size', 'Part number', 'Number of Shelves', 'Has Nonstick Coating', 'Country/Region Of Origin', 'Metal Type', 'Item Weight 14 Pounds', 'UPC', 'Tension Level', 'Grip Size', 'Stone Length', 'Blanket Form', 'Coverage', 'Fill Material Type', 'Measurement System', 'Deck Width', 'Package Weight', 'Control Type', 'Skin Tone', 'Light Color', 'Stone Cut', 'Total Eaches', 'Inside Pockets', 'Recommended Uses For Product', 'Bottom Shape', 'Model', 'Grade Rating', 'Department', 'Map Type', 'Remote Control Included?', 'Output Voltage', 'Minimum Height', 'Tea Variety', 'Total Power Outlets', 'Blade Length', 'Connector Type', 'Keyboard Description', 'Reusability', 'Capacity 10.3 Ounces', 'Media Type', 'Switch Style', 'Mirror Adjustment', 'Paper Weight', 'Surface Recommendation Window, Wall', 'Release date', 'Cap Type', 'Shape Irregular', 'Battery Description', 'Number of Labels', 'Surface Recommendation nail', 'Water Resistance Level', 'Material Vinyl', 'Brake Width', 'Frame Material', 'Material other', 'Gauge', 'Engine Type', 'Is Stain Resistant', 'Genre', 'Warranty Description', 'Point Type', 'Biometric Security Feature', 'Sterility Rating', 'Fastener Type', 'Dial Color', 'Number of Buttons', 'Our Recommended age', 'Lens Correction Type', 'Mounting Type Tabletop Mount', 'Weight', 'Material Acrylic', 'Stone Clarity', 'Item Package Dimensions L x W x H', 'Frame Type', 'Maximum Height', 'Manufacturer recommended age', 'Is Discontinued By Manufacturer', 'Surface Recommendation 2 inch', 'Item Length', 'Seat Material Type Suede', 'Hardware Platform', 'Focus Type', 'Occasion Halloween', 'Diet Type', 'Bowl Material', 'Case Material', 'Mounting Type Clip On', 'Finish Type', 'Batteries required', 'Display Style', 'Wall Art Form', 'Blade Shape', 'Operating System', 'Mounting Type Insert Mount', 'Switch Type', 'Package Type', 'Primary Stone Gem Type', 'Item Volume', 'Water Resistance Technology', 'Fabric Type', 'Number of Items', 'Installation Type Adhesive', 'Material Polyester', 'Item Dimensions  LxWxH', 'Part Number', 'Care instructions', 'Frequency Range', 'Instrument Key', 'Capacity 15 Ounces', 'Material Type', 'Back Material Type', 'Educational Objective', 'ASTM Fluid Rating', 'Number of Compartments', 'Size', 'Furniture Finish', 'Flavor', 'Rim Size', 'Tick-repellent material', 'Domestic Shipping', 'Additional product features', 'Color Code', 'Paper Finish', 'Skin Type', 'Is Autographed', 'ABPA Partslink Number', 'Brightness', 'Number Of Pockets', 'Antibacterial treatment', 'Lens Material', 'Shelf Type Hanging Shelf', 'Current Rating', 'Is Waterproof', 'Shade Material', 'Grip Type', 'Fabric cleaning', 'Frame Material Metal', 'Pole Material Type', 'Installation Type', 'Battery Capacity', 'Surface Recommendation Window', 'Construction Type', 'Type of item'}\n"
     ]
    }
   ],
   "source": [
    "details = list(df['details'])\n",
    "\n",
    "detail_keys = set()\n",
    "\n",
    "for detail in details:\n",
    "    for k in detail:\n",
    "        detail_keys.add(k)\n",
    "\n",
    "print(detail_keys)"
   ]
  },
  {
   "cell_type": "code",
   "execution_count": null,
   "metadata": {},
   "outputs": [
    {
     "name": "stdout",
     "output_type": "stream",
     "text": [
      "Percentage of items that have some features\n"
     ]
    },
    {
     "data": {
      "text/plain": [
       "0.5605489839100941"
      ]
     },
     "execution_count": 20,
     "metadata": {},
     "output_type": "execute_result"
    }
   ],
   "source": [
    "print(\"Percentage of items that have some features\")\n",
    "sum(df['features'].apply(lambda x: 1 if len(x) > 0 else 0)) / len(df)"
   ]
  },
  {
   "cell_type": "code",
   "execution_count": 21,
   "metadata": {},
   "outputs": [
    {
     "name": "stdout",
     "output_type": "stream",
     "text": [
      "Percentage of items that have a description\n"
     ]
    },
    {
     "data": {
      "text/plain": [
       "0.07176906651430563"
      ]
     },
     "execution_count": 21,
     "metadata": {},
     "output_type": "execute_result"
    }
   ],
   "source": [
    "print(\"Percentage of items that have a description\")\n",
    "sum(df['description'].apply(lambda x: 1 if len(x) > 0 else 0)) / len(df)"
   ]
  },
  {
   "cell_type": "code",
   "execution_count": 32,
   "metadata": {},
   "outputs": [
    {
     "data": {
      "text/plain": [
       "np.int64(50249)"
      ]
     },
     "execution_count": 32,
     "metadata": {},
     "output_type": "execute_result"
    }
   ],
   "source": [
    "df['price'].count()"
   ]
  },
  {
   "cell_type": "code",
   "execution_count": 33,
   "metadata": {},
   "outputs": [
    {
     "data": {
      "text/plain": [
       "np.int64(826108)"
      ]
     },
     "execution_count": 33,
     "metadata": {},
     "output_type": "execute_result"
    }
   ],
   "source": [
    "df['rating_number'].count()"
   ]
  },
  {
   "cell_type": "code",
   "execution_count": 34,
   "metadata": {},
   "outputs": [
    {
     "data": {
      "text/html": [
       "<div>\n",
       "<style scoped>\n",
       "    .dataframe tbody tr th:only-of-type {\n",
       "        vertical-align: middle;\n",
       "    }\n",
       "\n",
       "    .dataframe tbody tr th {\n",
       "        vertical-align: top;\n",
       "    }\n",
       "\n",
       "    .dataframe thead th {\n",
       "        text-align: right;\n",
       "    }\n",
       "</style>\n",
       "<table border=\"1\" class=\"dataframe\">\n",
       "  <thead>\n",
       "    <tr style=\"text-align: right;\">\n",
       "      <th></th>\n",
       "      <th>title</th>\n",
       "      <th>average_rating</th>\n",
       "      <th>rating_number</th>\n",
       "      <th>features</th>\n",
       "      <th>description</th>\n",
       "      <th>price</th>\n",
       "      <th>images</th>\n",
       "      <th>store</th>\n",
       "      <th>details</th>\n",
       "      <th>thumbnail</th>\n",
       "    </tr>\n",
       "  </thead>\n",
       "  <tbody>\n",
       "    <tr>\n",
       "      <th>0</th>\n",
       "      <td>YUEDGE 5 Pairs Men's Moisture Control Cushione...</td>\n",
       "      <td>4.6</td>\n",
       "      <td>16</td>\n",
       "      <td>[]</td>\n",
       "      <td>[]</td>\n",
       "      <td>NaN</td>\n",
       "      <td>[{'thumb': 'https://m.media-amazon.com/images/...</td>\n",
       "      <td>GiveGift</td>\n",
       "      <td>{'Package Dimensions': '10.31 x 8.5 x 1.73 inc...</td>\n",
       "      <td>https://m.media-amazon.com/images/I/41+cCfaVOF...</td>\n",
       "    </tr>\n",
       "    <tr>\n",
       "      <th>1</th>\n",
       "      <td>DouBCQ Women's Palazzo Lounge Wide Leg Casual ...</td>\n",
       "      <td>4.1</td>\n",
       "      <td>7</td>\n",
       "      <td>[Drawstring closure, Machine Wash]</td>\n",
       "      <td>[]</td>\n",
       "      <td>NaN</td>\n",
       "      <td>[{'thumb': 'https://m.media-amazon.com/images/...</td>\n",
       "      <td>DouBCQ</td>\n",
       "      <td>{'Package Dimensions': '15 x 10.2 x 0.4 inches...</td>\n",
       "      <td>https://m.media-amazon.com/images/I/515cR-ta1E...</td>\n",
       "    </tr>\n",
       "    <tr>\n",
       "      <th>2</th>\n",
       "      <td>Pastel by Vivienne Honey Vanilla Girls' Trapez...</td>\n",
       "      <td>4.3</td>\n",
       "      <td>11</td>\n",
       "      <td>[Zipper closure, Hand Wash Only]</td>\n",
       "      <td>[]</td>\n",
       "      <td>NaN</td>\n",
       "      <td>[{'thumb': 'https://m.media-amazon.com/images/...</td>\n",
       "      <td>Pastel by Vivienne</td>\n",
       "      <td>{'Is Discontinued By Manufacturer': 'No', 'Pac...</td>\n",
       "      <td>https://m.media-amazon.com/images/I/31GwmwNCdA...</td>\n",
       "    </tr>\n",
       "    <tr>\n",
       "      <th>3</th>\n",
       "      <td>Mento Streamtail</td>\n",
       "      <td>2.0</td>\n",
       "      <td>1</td>\n",
       "      <td>[Thermoplastic Rubber sole, High Density Premi...</td>\n",
       "      <td>[Slip on the Women's Mento and you're ready to...</td>\n",
       "      <td>29.81</td>\n",
       "      <td>[{'thumb': 'https://m.media-amazon.com/images/...</td>\n",
       "      <td>Guy Harvey</td>\n",
       "      <td>{'Package Dimensions': '11.22 x 4.72 x 4.33 in...</td>\n",
       "      <td>https://m.media-amazon.com/images/I/31P-uHUUIX...</td>\n",
       "    </tr>\n",
       "    <tr>\n",
       "      <th>4</th>\n",
       "      <td>RONNOX Women's 3-Pairs Bright Colored Calf Com...</td>\n",
       "      <td>4.3</td>\n",
       "      <td>3032</td>\n",
       "      <td>[Pull On closure, Size Guide: \"S\" fits calf 10...</td>\n",
       "      <td>[Ronnox Calf Sleeves - Allowing Your Body to P...</td>\n",
       "      <td>17.99</td>\n",
       "      <td>[{'thumb': 'https://m.media-amazon.com/images/...</td>\n",
       "      <td>RONNOX</td>\n",
       "      <td>{'Is Discontinued By Manufacturer': 'No', 'Pac...</td>\n",
       "      <td>https://m.media-amazon.com/images/I/51CqMDJOOD...</td>\n",
       "    </tr>\n",
       "  </tbody>\n",
       "</table>\n",
       "</div>"
      ],
      "text/plain": [
       "                                               title  average_rating  \\\n",
       "0  YUEDGE 5 Pairs Men's Moisture Control Cushione...             4.6   \n",
       "1  DouBCQ Women's Palazzo Lounge Wide Leg Casual ...             4.1   \n",
       "2  Pastel by Vivienne Honey Vanilla Girls' Trapez...             4.3   \n",
       "3                                   Mento Streamtail             2.0   \n",
       "4  RONNOX Women's 3-Pairs Bright Colored Calf Com...             4.3   \n",
       "\n",
       "   rating_number                                           features  \\\n",
       "0             16                                                 []   \n",
       "1              7                 [Drawstring closure, Machine Wash]   \n",
       "2             11                   [Zipper closure, Hand Wash Only]   \n",
       "3              1  [Thermoplastic Rubber sole, High Density Premi...   \n",
       "4           3032  [Pull On closure, Size Guide: \"S\" fits calf 10...   \n",
       "\n",
       "                                         description  price  \\\n",
       "0                                                 []    NaN   \n",
       "1                                                 []    NaN   \n",
       "2                                                 []    NaN   \n",
       "3  [Slip on the Women's Mento and you're ready to...  29.81   \n",
       "4  [Ronnox Calf Sleeves - Allowing Your Body to P...  17.99   \n",
       "\n",
       "                                              images               store  \\\n",
       "0  [{'thumb': 'https://m.media-amazon.com/images/...            GiveGift   \n",
       "1  [{'thumb': 'https://m.media-amazon.com/images/...              DouBCQ   \n",
       "2  [{'thumb': 'https://m.media-amazon.com/images/...  Pastel by Vivienne   \n",
       "3  [{'thumb': 'https://m.media-amazon.com/images/...          Guy Harvey   \n",
       "4  [{'thumb': 'https://m.media-amazon.com/images/...              RONNOX   \n",
       "\n",
       "                                             details  \\\n",
       "0  {'Package Dimensions': '10.31 x 8.5 x 1.73 inc...   \n",
       "1  {'Package Dimensions': '15 x 10.2 x 0.4 inches...   \n",
       "2  {'Is Discontinued By Manufacturer': 'No', 'Pac...   \n",
       "3  {'Package Dimensions': '11.22 x 4.72 x 4.33 in...   \n",
       "4  {'Is Discontinued By Manufacturer': 'No', 'Pac...   \n",
       "\n",
       "                                           thumbnail  \n",
       "0  https://m.media-amazon.com/images/I/41+cCfaVOF...  \n",
       "1  https://m.media-amazon.com/images/I/515cR-ta1E...  \n",
       "2  https://m.media-amazon.com/images/I/31GwmwNCdA...  \n",
       "3  https://m.media-amazon.com/images/I/31P-uHUUIX...  \n",
       "4  https://m.media-amazon.com/images/I/51CqMDJOOD...  "
      ]
     },
     "execution_count": 34,
     "metadata": {},
     "output_type": "execute_result"
    }
   ],
   "source": [
    "# Extract first image thumbnail URL from images list\n",
    "df['thumbnail'] = df['images'].apply(lambda x: x[0]['thumb'] if x and len(x) > 0 and 'thumb' in x[0] else None)\n",
    "\n",
    "# Display sample of data with new thumbnail column\n",
    "df.head()\n"
   ]
  },
  {
   "cell_type": "code",
   "execution_count": 35,
   "metadata": {},
   "outputs": [],
   "source": [
    "# Drop additional columns\n",
    "df = df.drop(['details', 'images'], axis=1)"
   ]
  },
  {
   "cell_type": "code",
   "execution_count": 36,
   "metadata": {},
   "outputs": [],
   "source": [
    "# Reduces the dataset\n",
    "df = df[df['price'].isna() == False]"
   ]
  },
  {
   "cell_type": "code",
   "execution_count": 38,
   "metadata": {},
   "outputs": [
    {
     "name": "stdout",
     "output_type": "stream",
     "text": [
      "Percentage of items that have some features\n"
     ]
    },
    {
     "data": {
      "text/plain": [
       "0.7651694561085792"
      ]
     },
     "execution_count": 38,
     "metadata": {},
     "output_type": "execute_result"
    }
   ],
   "source": [
    "print(\"Percentage of items that have some features\")\n",
    "sum(df['features'].apply(lambda x: 1 if len(x) > 0 else 0)) / len(df)"
   ]
  },
  {
   "cell_type": "code",
   "execution_count": 39,
   "metadata": {},
   "outputs": [
    {
     "name": "stdout",
     "output_type": "stream",
     "text": [
      "Percentage of items that have a description\n"
     ]
    },
    {
     "data": {
      "text/plain": [
       "0.35025572648211906"
      ]
     },
     "execution_count": 39,
     "metadata": {},
     "output_type": "execute_result"
    }
   ],
   "source": [
    "print(\"Percentage of items that have a description\")\n",
    "sum(df['description'].apply(lambda x: 1 if len(x) > 0 else 0)) / len(df)"
   ]
  },
  {
   "cell_type": "code",
   "execution_count": 45,
   "metadata": {},
   "outputs": [],
   "source": [
    "def generate_product_spec_string(df_row):\n",
    "    result = \"\"\n",
    "    result += df_row['title']\n",
    "    if len(df_row['features']) > 0:\n",
    "        result = result + \" \"  + \" \".join(df_row['features'])\n",
    "\n",
    "    if len(df_row['description']) > 0:\n",
    "        result = result + \" \"  + \" \".join(df_row['description'])\n",
    "\n",
    "    return result\n",
    "\n",
    "\n",
    "df['product_spec'] = df.apply(generate_product_spec_string, axis=1)"
   ]
  },
  {
   "cell_type": "code",
   "execution_count": 47,
   "metadata": {},
   "outputs": [
    {
     "data": {
      "text/html": [
       "<div>\n",
       "<style scoped>\n",
       "    .dataframe tbody tr th:only-of-type {\n",
       "        vertical-align: middle;\n",
       "    }\n",
       "\n",
       "    .dataframe tbody tr th {\n",
       "        vertical-align: top;\n",
       "    }\n",
       "\n",
       "    .dataframe thead th {\n",
       "        text-align: right;\n",
       "    }\n",
       "</style>\n",
       "<table border=\"1\" class=\"dataframe\">\n",
       "  <thead>\n",
       "    <tr style=\"text-align: right;\">\n",
       "      <th></th>\n",
       "      <th>title</th>\n",
       "      <th>average_rating</th>\n",
       "      <th>rating_number</th>\n",
       "      <th>features</th>\n",
       "      <th>description</th>\n",
       "      <th>price</th>\n",
       "      <th>store</th>\n",
       "      <th>thumbnail</th>\n",
       "      <th>product_spec</th>\n",
       "    </tr>\n",
       "  </thead>\n",
       "  <tbody>\n",
       "    <tr>\n",
       "      <th>3</th>\n",
       "      <td>Mento Streamtail</td>\n",
       "      <td>2.0</td>\n",
       "      <td>1</td>\n",
       "      <td>[Thermoplastic Rubber sole, High Density Premi...</td>\n",
       "      <td>[Slip on the Women's Mento and you're ready to...</td>\n",
       "      <td>29.81</td>\n",
       "      <td>Guy Harvey</td>\n",
       "      <td>https://m.media-amazon.com/images/I/31P-uHUUIX...</td>\n",
       "      <td>Mento Streamtail Thermoplastic Rubber sole Hig...</td>\n",
       "    </tr>\n",
       "    <tr>\n",
       "      <th>4</th>\n",
       "      <td>RONNOX Women's 3-Pairs Bright Colored Calf Com...</td>\n",
       "      <td>4.3</td>\n",
       "      <td>3032</td>\n",
       "      <td>[Pull On closure, Size Guide: \"S\" fits calf 10...</td>\n",
       "      <td>[Ronnox Calf Sleeves - Allowing Your Body to P...</td>\n",
       "      <td>17.99</td>\n",
       "      <td>RONNOX</td>\n",
       "      <td>https://m.media-amazon.com/images/I/51CqMDJOOD...</td>\n",
       "      <td>RONNOX Women's 3-Pairs Bright Colored Calf Com...</td>\n",
       "    </tr>\n",
       "    <tr>\n",
       "      <th>8</th>\n",
       "      <td>LYCKYY Women's Tie Dye Sweatshirt Crewneck Lon...</td>\n",
       "      <td>3.7</td>\n",
       "      <td>52</td>\n",
       "      <td>[Pull On closure]</td>\n",
       "      <td>[Tie dye shirts for Women long sleeve crewneck...</td>\n",
       "      <td>9.99</td>\n",
       "      <td>LYCKYY</td>\n",
       "      <td>https://m.media-amazon.com/images/I/41DW4uwWLQ...</td>\n",
       "      <td>LYCKYY Women's Tie Dye Sweatshirt Crewneck Lon...</td>\n",
       "    </tr>\n",
       "    <tr>\n",
       "      <th>11</th>\n",
       "      <td>Sexyshine Women's Casual Fall Knit Long Sleeve...</td>\n",
       "      <td>3.6</td>\n",
       "      <td>7</td>\n",
       "      <td>[Cotton Blend, Asian Size,Smaller than US Size...</td>\n",
       "      <td>[Sexyshine Women's Casual Fall Knit Long Sleev...</td>\n",
       "      <td>26.99</td>\n",
       "      <td>Sexyshine</td>\n",
       "      <td>https://m.media-amazon.com/images/I/51Cijpzflv...</td>\n",
       "      <td>Sexyshine Women's Casual Fall Knit Long Sleeve...</td>\n",
       "    </tr>\n",
       "    <tr>\n",
       "      <th>33</th>\n",
       "      <td>Result Core Men's Soft Shell II Gilet Red 3XL</td>\n",
       "      <td>5.0</td>\n",
       "      <td>1</td>\n",
       "      <td>[Polyester,Microfleece,Elastane]</td>\n",
       "      <td>[]</td>\n",
       "      <td>53.95</td>\n",
       "      <td>Result Core</td>\n",
       "      <td>https://m.media-amazon.com/images/I/41vLlRDu6V...</td>\n",
       "      <td>Result Core Men's Soft Shell II Gilet Red 3XL ...</td>\n",
       "    </tr>\n",
       "  </tbody>\n",
       "</table>\n",
       "</div>"
      ],
      "text/plain": [
       "                                                title  average_rating  \\\n",
       "3                                    Mento Streamtail             2.0   \n",
       "4   RONNOX Women's 3-Pairs Bright Colored Calf Com...             4.3   \n",
       "8   LYCKYY Women's Tie Dye Sweatshirt Crewneck Lon...             3.7   \n",
       "11  Sexyshine Women's Casual Fall Knit Long Sleeve...             3.6   \n",
       "33      Result Core Men's Soft Shell II Gilet Red 3XL             5.0   \n",
       "\n",
       "    rating_number                                           features  \\\n",
       "3               1  [Thermoplastic Rubber sole, High Density Premi...   \n",
       "4            3032  [Pull On closure, Size Guide: \"S\" fits calf 10...   \n",
       "8              52                                  [Pull On closure]   \n",
       "11              7  [Cotton Blend, Asian Size,Smaller than US Size...   \n",
       "33              1                   [Polyester,Microfleece,Elastane]   \n",
       "\n",
       "                                          description  price        store  \\\n",
       "3   [Slip on the Women's Mento and you're ready to...  29.81   Guy Harvey   \n",
       "4   [Ronnox Calf Sleeves - Allowing Your Body to P...  17.99       RONNOX   \n",
       "8   [Tie dye shirts for Women long sleeve crewneck...   9.99       LYCKYY   \n",
       "11  [Sexyshine Women's Casual Fall Knit Long Sleev...  26.99    Sexyshine   \n",
       "33                                                 []  53.95  Result Core   \n",
       "\n",
       "                                            thumbnail  \\\n",
       "3   https://m.media-amazon.com/images/I/31P-uHUUIX...   \n",
       "4   https://m.media-amazon.com/images/I/51CqMDJOOD...   \n",
       "8   https://m.media-amazon.com/images/I/41DW4uwWLQ...   \n",
       "11  https://m.media-amazon.com/images/I/51Cijpzflv...   \n",
       "33  https://m.media-amazon.com/images/I/41vLlRDu6V...   \n",
       "\n",
       "                                         product_spec  \n",
       "3   Mento Streamtail Thermoplastic Rubber sole Hig...  \n",
       "4   RONNOX Women's 3-Pairs Bright Colored Calf Com...  \n",
       "8   LYCKYY Women's Tie Dye Sweatshirt Crewneck Lon...  \n",
       "11  Sexyshine Women's Casual Fall Knit Long Sleeve...  \n",
       "33  Result Core Men's Soft Shell II Gilet Red 3XL ...  "
      ]
     },
     "execution_count": 47,
     "metadata": {},
     "output_type": "execute_result"
    }
   ],
   "source": [
    "df.head()"
   ]
  },
  {
   "cell_type": "code",
   "execution_count": 48,
   "metadata": {},
   "outputs": [],
   "source": [
    "df.to_json('../data/processed_data.jsonl', orient='records', lines=True)"
   ]
  },
  {
   "cell_type": "code",
   "execution_count": null,
   "metadata": {},
   "outputs": [],
   "source": []
  }
 ],
 "metadata": {
  "kernelspec": {
   "display_name": ".venv",
   "language": "python",
   "name": "python3"
  },
  "language_info": {
   "codemirror_mode": {
    "name": "ipython",
    "version": 3
   },
   "file_extension": ".py",
   "mimetype": "text/x-python",
   "name": "python",
   "nbconvert_exporter": "python",
   "pygments_lexer": "ipython3",
   "version": "3.12.8"
  }
 },
 "nbformat": 4,
 "nbformat_minor": 2
}
