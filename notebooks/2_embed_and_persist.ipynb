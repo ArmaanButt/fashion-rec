{
 "cells": [
  {
   "cell_type": "code",
   "execution_count": 12,
   "metadata": {},
   "outputs": [],
   "source": [
    "import pandas as pd\n",
    "from openai import OpenAI\n",
    "\n",
    "import os\n",
    "from dotenv import load_dotenv\n",
    "\n",
    "load_dotenv()\n",
    "client = OpenAI(api_key=os.getenv('OPENAI_API_KEY_PERSONAL'))\n",
    "\n",
    "df = pd.read_json('../data/processed_data.jsonl', lines=True)"
   ]
  },
  {
   "cell_type": "code",
   "execution_count": 13,
   "metadata": {},
   "outputs": [
    {
     "data": {
      "text/html": [
       "<div>\n",
       "<style scoped>\n",
       "    .dataframe tbody tr th:only-of-type {\n",
       "        vertical-align: middle;\n",
       "    }\n",
       "\n",
       "    .dataframe tbody tr th {\n",
       "        vertical-align: top;\n",
       "    }\n",
       "\n",
       "    .dataframe thead th {\n",
       "        text-align: right;\n",
       "    }\n",
       "</style>\n",
       "<table border=\"1\" class=\"dataframe\">\n",
       "  <thead>\n",
       "    <tr style=\"text-align: right;\">\n",
       "      <th></th>\n",
       "      <th>title</th>\n",
       "      <th>average_rating</th>\n",
       "      <th>rating_number</th>\n",
       "      <th>features</th>\n",
       "      <th>price</th>\n",
       "      <th>store</th>\n",
       "      <th>thumbnail</th>\n",
       "    </tr>\n",
       "  </thead>\n",
       "  <tbody>\n",
       "    <tr>\n",
       "      <th>0</th>\n",
       "      <td>Mento Streamtail</td>\n",
       "      <td>2.0</td>\n",
       "      <td>1</td>\n",
       "      <td>[Thermoplastic Rubber sole, High Density Premi...</td>\n",
       "      <td>29.81</td>\n",
       "      <td>Guy Harvey</td>\n",
       "      <td>https://m.media-amazon.com/images/I/31P-uHUUIX...</td>\n",
       "    </tr>\n",
       "    <tr>\n",
       "      <th>1</th>\n",
       "      <td>RONNOX Women's 3-Pairs Bright Colored Calf Com...</td>\n",
       "      <td>4.3</td>\n",
       "      <td>3032</td>\n",
       "      <td>[Pull On closure, Size Guide: \"S\" fits calf 10...</td>\n",
       "      <td>17.99</td>\n",
       "      <td>RONNOX</td>\n",
       "      <td>https://m.media-amazon.com/images/I/51CqMDJOOD...</td>\n",
       "    </tr>\n",
       "    <tr>\n",
       "      <th>2</th>\n",
       "      <td>LYCKYY Women's Tie Dye Sweatshirt Crewneck Lon...</td>\n",
       "      <td>3.7</td>\n",
       "      <td>52</td>\n",
       "      <td>[Pull On closure]</td>\n",
       "      <td>9.99</td>\n",
       "      <td>LYCKYY</td>\n",
       "      <td>https://m.media-amazon.com/images/I/41DW4uwWLQ...</td>\n",
       "    </tr>\n",
       "    <tr>\n",
       "      <th>3</th>\n",
       "      <td>Sexyshine Women's Casual Fall Knit Long Sleeve...</td>\n",
       "      <td>3.6</td>\n",
       "      <td>7</td>\n",
       "      <td>[Cotton Blend, Asian Size,Smaller than US Size...</td>\n",
       "      <td>26.99</td>\n",
       "      <td>Sexyshine</td>\n",
       "      <td>https://m.media-amazon.com/images/I/51Cijpzflv...</td>\n",
       "    </tr>\n",
       "    <tr>\n",
       "      <th>4</th>\n",
       "      <td>Result Core Men's Soft Shell II Gilet Red 3XL</td>\n",
       "      <td>5.0</td>\n",
       "      <td>1</td>\n",
       "      <td>[Polyester,Microfleece,Elastane]</td>\n",
       "      <td>53.95</td>\n",
       "      <td>Result Core</td>\n",
       "      <td>https://m.media-amazon.com/images/I/41vLlRDu6V...</td>\n",
       "    </tr>\n",
       "  </tbody>\n",
       "</table>\n",
       "</div>"
      ],
      "text/plain": [
       "                                               title  average_rating  \\\n",
       "0                                   Mento Streamtail             2.0   \n",
       "1  RONNOX Women's 3-Pairs Bright Colored Calf Com...             4.3   \n",
       "2  LYCKYY Women's Tie Dye Sweatshirt Crewneck Lon...             3.7   \n",
       "3  Sexyshine Women's Casual Fall Knit Long Sleeve...             3.6   \n",
       "4      Result Core Men's Soft Shell II Gilet Red 3XL             5.0   \n",
       "\n",
       "   rating_number                                           features  price  \\\n",
       "0              1  [Thermoplastic Rubber sole, High Density Premi...  29.81   \n",
       "1           3032  [Pull On closure, Size Guide: \"S\" fits calf 10...  17.99   \n",
       "2             52                                  [Pull On closure]   9.99   \n",
       "3              7  [Cotton Blend, Asian Size,Smaller than US Size...  26.99   \n",
       "4              1                   [Polyester,Microfleece,Elastane]  53.95   \n",
       "\n",
       "         store                                          thumbnail  \n",
       "0   Guy Harvey  https://m.media-amazon.com/images/I/31P-uHUUIX...  \n",
       "1       RONNOX  https://m.media-amazon.com/images/I/51CqMDJOOD...  \n",
       "2       LYCKYY  https://m.media-amazon.com/images/I/41DW4uwWLQ...  \n",
       "3    Sexyshine  https://m.media-amazon.com/images/I/51Cijpzflv...  \n",
       "4  Result Core  https://m.media-amazon.com/images/I/41vLlRDu6V...  "
      ]
     },
     "execution_count": 13,
     "metadata": {},
     "output_type": "execute_result"
    }
   ],
   "source": [
    "df.head()"
   ]
  },
  {
   "cell_type": "code",
   "execution_count": 19,
   "metadata": {},
   "outputs": [],
   "source": [
    "# Create a random sample of 5000 records\n",
    "df = df.sample(n=4000, random_state=42)\n"
   ]
  },
  {
   "cell_type": "code",
   "execution_count": 20,
   "metadata": {},
   "outputs": [],
   "source": [
    "import tiktoken\n",
    "import concurrent.futures\n",
    "from tqdm import tqdm\n",
    "\n",
    "from tenacity import retry, wait_random_exponential, stop_after_attempt\n",
    "\n",
    "EMBEDDING_MODEL = \"text-embedding-3-small\"\n",
    "\n",
    "# Simple function to take in a list of text objects and return them as a list of embeddings\n",
    "@retry(wait=wait_random_exponential(min=1, max=40), stop=stop_after_attempt(10))\n",
    "def get_embeddings(input):\n",
    "    response = client.embeddings.create(\n",
    "        input=input,\n",
    "        model=EMBEDDING_MODEL\n",
    "    ).data\n",
    "    return [data.embedding for data in response]\n",
    "\n",
    "\n",
    "# Splits an iterable into batches of size n.\n",
    "def batchify(iterable, n=1):\n",
    "    l = len(iterable)\n",
    "    for ndx in range(0, l, n):\n",
    "        yield iterable[ndx : min(ndx + n, l)]\n",
    "     \n",
    "\n",
    "# Function for batching and parallel processing the embeddings\n",
    "def embed_text(\n",
    "    text,\n",
    "    batch_size=64,\n",
    "    num_workers=12,\n",
    "    max_context_len=8191,\n",
    "):\n",
    "    # Encode the text, truncating to max_context_len\n",
    "    encoding = tiktoken.get_encoding(\"cl100k_base\")\n",
    "    encoded_text = [\n",
    "        encoded_article[:max_context_len] for encoded_article in encoding.encode_batch(text)\n",
    "    ]\n",
    "    # Embed the text\n",
    "    with concurrent.futures.ThreadPoolExecutor(max_workers=num_workers) as executor:\n",
    "        \n",
    "        futures = [\n",
    "            executor.submit(get_embeddings, text_batch)\n",
    "            for text_batch in batchify(encoded_text, batch_size)\n",
    "        ]\n",
    "\n",
    "        with tqdm(total=len(encoded_text)) as pbar:\n",
    "            for _ in concurrent.futures.as_completed(futures):\n",
    "                pbar.update(batch_size)\n",
    "\n",
    "        embeddings = []\n",
    "        for future in futures:\n",
    "            data = future.result()\n",
    "            embeddings.extend(data)\n",
    "\n",
    "        return embeddings\n",
    "    "
   ]
  },
  {
   "cell_type": "code",
   "execution_count": 21,
   "metadata": {},
   "outputs": [
    {
     "name": "stderr",
     "output_type": "stream",
     "text": [
      "4032it [00:12, 319.20it/s]                          \n"
     ]
    }
   ],
   "source": [
    "product_names = df['title'].astype(str).tolist()\n",
    "\n",
    "embeddings = embed_text(product_names)\n",
    "\n",
    "df['embedding'] = embeddings\n"
   ]
  },
  {
   "cell_type": "code",
   "execution_count": 22,
   "metadata": {},
   "outputs": [],
   "source": [
    "df.to_json('../data/sample_data_with_embeddings.jsonl', orient='records', lines=True)"
   ]
  },
  {
   "cell_type": "code",
   "execution_count": null,
   "metadata": {},
   "outputs": [],
   "source": []
  }
 ],
 "metadata": {
  "kernelspec": {
   "display_name": "Python 3",
   "language": "python",
   "name": "python3"
  },
  "language_info": {
   "codemirror_mode": {
    "name": "ipython",
    "version": 3
   },
   "file_extension": ".py",
   "mimetype": "text/x-python",
   "name": "python",
   "nbconvert_exporter": "python",
   "pygments_lexer": "ipython3",
   "version": "3.12.7"
  }
 },
 "nbformat": 4,
 "nbformat_minor": 2
}
